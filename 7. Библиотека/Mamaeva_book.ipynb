{
 "cells": [
  {
   "cell_type": "markdown",
   "id": "852f2c43-e938-4749-8fdc-1b990986290d",
   "metadata": {},
   "source": [
    "# АНАЛИЗ БАЗЫ ДАННЫХ\n",
    "он-лайн библиотеки"
   ]
  },
  {
   "cell_type": "markdown",
   "id": "2136c82a-e15d-4b21-9688-80707852c037",
   "metadata": {},
   "source": [
    "Цель работы: исследование базы данных для формированния ценностного предложение для нового продукта."
   ]
  },
  {
   "cell_type": "markdown",
   "id": "89a1859a-ebf2-4cbb-8774-bfe22b008084",
   "metadata": {},
   "source": [
    "План работ:\n",
    "1. Ознакомление с базой данной;\n",
    "2. Вопросы от бизнесса:\n",
    "     - сколько книг вышло после 1 января 2000 года;\n",
    "     - количество обзоров для каждой книги и средняя оценка;\n",
    "     - издательство, которое выпустило наибольшее число книг толще 50 страниц (исключить брошюры);\n",
    "     - автор с самой высокой средней оценкой книг (учитывать только книги с 50 и более оценками);\n",
    "     - среднее количество обзоров от пользователей, которые поставили больше 48 оценок.\n",
    "3. Выводы"
   ]
  },
  {
   "cell_type": "code",
   "execution_count": 22,
   "id": "6c7ec546-bae6-432b-90b0-514d34e8ea52",
   "metadata": {},
   "outputs": [],
   "source": [
    "import pandas as pd\n",
    "import sqlalchemy as sa"
   ]
  },
  {
   "cell_type": "code",
   "execution_count": 23,
   "id": "d4af6160-4a93-4028-a587-8989937b81d8",
   "metadata": {},
   "outputs": [],
   "source": [
    "db_config = {\n",
    "'user': 'praktikum_student',\n",
    "'pwd': 'Sdf4$2;d-d30pp', \n",
    "'host': 'rc1b-wcoijxj3yxfsf3fs.mdb.yandexcloud.net',\n",
    "'port': 6432,\n",
    "'db': 'data-analyst-final-project-db' \n",
    "}\n",
    "connection_string = 'postgresql://{user}:{pwd}@{host}:{port}/{db}'.format(**db_config)"
   ]
  },
  {
   "cell_type": "code",
   "execution_count": 24,
   "id": "a9936cfb-552a-47e2-b7b9-7e4d2f417634",
   "metadata": {},
   "outputs": [],
   "source": [
    "# сохраняем коннектор\n",
    "engine = sa.create_engine(connection_string, connect_args={'sslmode':'require'})"
   ]
  },
  {
   "cell_type": "code",
   "execution_count": 25,
   "id": "68017a1e-c64c-4b49-88f0-b944f5386368",
   "metadata": {},
   "outputs": [],
   "source": [
    "def get_sql_data(query:str, engine:sa.engine.base.Engine=engine) -> pd.DataFrame:\n",
    "    '''Открываем соединение, получаем данные из sql, закрываем соединение'''\n",
    "    with engine.connect() as con:\n",
    "        return pd.read_sql(sql=sa.text(query), con = con)"
   ]
  },
  {
   "attachments": {
    "45b8c822-4904-4ba8-ace8-eb077d61de2a.png": {
     "image/png": "[encoded data removed]"
    }
   },
   "cell_type": "markdown",
   "id": "9c0e6279-4798-4ea8-97e1-73a75199c041",
   "metadata": {},
   "source": [
    "![image.png](attachment:45b8c822-4904-4ba8-ace8-eb077d61de2a.png)"
   ]
  },
  {
   "cell_type": "markdown",
   "id": "d834e329-6b4a-4d44-934f-3625fb132acd",
   "metadata": {},
   "source": [
    "## Ознакомлениие с данными"
   ]
  },
  {
   "cell_type": "code",
   "execution_count": 26,
   "id": "683794fb-9446-442e-946a-9b6247de1ee9",
   "metadata": {},
   "outputs": [
    {
     "data": {
      "text/html": [
       "<div>\n",
       "<style scoped>\n",
       "    .dataframe tbody tr th:only-of-type {\n",
       "        vertical-align: middle;\n",
       "    }\n",
       "\n",
       "    .dataframe tbody tr th {\n",
       "        vertical-align: top;\n",
       "    }\n",
       "\n",
       "    .dataframe thead th {\n",
       "        text-align: right;\n",
       "    }\n",
       "</style>\n",
       "<table border=\"1\" class=\"dataframe\">\n",
       "  <thead>\n",
       "    <tr style=\"text-align: right;\">\n",
       "      <th></th>\n",
       "      <th>book_id</th>\n",
       "      <th>author_id</th>\n",
       "      <th>title</th>\n",
       "      <th>num_pages</th>\n",
       "      <th>publication_date</th>\n",
       "      <th>publisher_id</th>\n",
       "    </tr>\n",
       "  </thead>\n",
       "  <tbody>\n",
       "    <tr>\n",
       "      <th>0</th>\n",
       "      <td>1</td>\n",
       "      <td>546</td>\n",
       "      <td>'Salem's Lot</td>\n",
       "      <td>594</td>\n",
       "      <td>2005-11-01</td>\n",
       "      <td>93</td>\n",
       "    </tr>\n",
       "    <tr>\n",
       "      <th>1</th>\n",
       "      <td>2</td>\n",
       "      <td>465</td>\n",
       "      <td>1 000 Places to See Before You Die</td>\n",
       "      <td>992</td>\n",
       "      <td>2003-05-22</td>\n",
       "      <td>336</td>\n",
       "    </tr>\n",
       "    <tr>\n",
       "      <th>2</th>\n",
       "      <td>3</td>\n",
       "      <td>407</td>\n",
       "      <td>13 Little Blue Envelopes (Little Blue Envelope...</td>\n",
       "      <td>322</td>\n",
       "      <td>2010-12-21</td>\n",
       "      <td>135</td>\n",
       "    </tr>\n",
       "    <tr>\n",
       "      <th>3</th>\n",
       "      <td>4</td>\n",
       "      <td>82</td>\n",
       "      <td>1491: New Revelations of the Americas Before C...</td>\n",
       "      <td>541</td>\n",
       "      <td>2006-10-10</td>\n",
       "      <td>309</td>\n",
       "    </tr>\n",
       "    <tr>\n",
       "      <th>4</th>\n",
       "      <td>5</td>\n",
       "      <td>125</td>\n",
       "      <td>1776</td>\n",
       "      <td>386</td>\n",
       "      <td>2006-07-04</td>\n",
       "      <td>268</td>\n",
       "    </tr>\n",
       "  </tbody>\n",
       "</table>\n",
       "</div>"
      ],
      "text/plain": [
       "   book_id  author_id                                              title  \\\n",
       "0        1        546                                       'Salem's Lot   \n",
       "1        2        465                 1 000 Places to See Before You Die   \n",
       "2        3        407  13 Little Blue Envelopes (Little Blue Envelope...   \n",
       "3        4         82  1491: New Revelations of the Americas Before C...   \n",
       "4        5        125                                               1776   \n",
       "\n",
       "   num_pages publication_date  publisher_id  \n",
       "0        594       2005-11-01            93  \n",
       "1        992       2003-05-22           336  \n",
       "2        322       2010-12-21           135  \n",
       "3        541       2006-10-10           309  \n",
       "4        386       2006-07-04           268  "
      ]
     },
     "execution_count": 26,
     "metadata": {},
     "output_type": "execute_result"
    }
   ],
   "source": [
    "#Таблица books\n",
    "query = '''SELECT * FROM books LIMIT 5'''\n",
    "get_sql_data(query)"
   ]
  },
  {
   "cell_type": "code",
   "execution_count": 27,
   "id": "8cadebdd-76ce-4005-bfa1-110fc3926423",
   "metadata": {},
   "outputs": [
    {
     "data": {
      "text/html": [
       "<div>\n",
       "<style scoped>\n",
       "    .dataframe tbody tr th:only-of-type {\n",
       "        vertical-align: middle;\n",
       "    }\n",
       "\n",
       "    .dataframe tbody tr th {\n",
       "        vertical-align: top;\n",
       "    }\n",
       "\n",
       "    .dataframe thead th {\n",
       "        text-align: right;\n",
       "    }\n",
       "</style>\n",
       "<table border=\"1\" class=\"dataframe\">\n",
       "  <thead>\n",
       "    <tr style=\"text-align: right;\">\n",
       "      <th></th>\n",
       "      <th>min</th>\n",
       "      <th>max</th>\n",
       "    </tr>\n",
       "  </thead>\n",
       "  <tbody>\n",
       "    <tr>\n",
       "      <th>0</th>\n",
       "      <td>1952-12-01</td>\n",
       "      <td>2020-03-31</td>\n",
       "    </tr>\n",
       "  </tbody>\n",
       "</table>\n",
       "</div>"
      ],
      "text/plain": [
       "          min         max\n",
       "0  1952-12-01  2020-03-31"
      ]
     },
     "execution_count": 27,
     "metadata": {},
     "output_type": "execute_result"
    }
   ],
   "source": [
    "#Таблица books\n",
    "query = '''select MIN(publication_date), MAX(publication_date)\n",
    "from books\t'''\n",
    "get_sql_data(query)"
   ]
  },
  {
   "cell_type": "code",
   "execution_count": 28,
   "id": "adc85bc3-15eb-4e75-aa6c-054f7d8fc0cb",
   "metadata": {},
   "outputs": [
    {
     "data": {
      "text/html": [
       "<div>\n",
       "<style scoped>\n",
       "    .dataframe tbody tr th:only-of-type {\n",
       "        vertical-align: middle;\n",
       "    }\n",
       "\n",
       "    .dataframe tbody tr th {\n",
       "        vertical-align: top;\n",
       "    }\n",
       "\n",
       "    .dataframe thead th {\n",
       "        text-align: right;\n",
       "    }\n",
       "</style>\n",
       "<table border=\"1\" class=\"dataframe\">\n",
       "  <thead>\n",
       "    <tr style=\"text-align: right;\">\n",
       "      <th></th>\n",
       "      <th>count</th>\n",
       "    </tr>\n",
       "  </thead>\n",
       "  <tbody>\n",
       "    <tr>\n",
       "      <th>0</th>\n",
       "      <td>1000</td>\n",
       "    </tr>\n",
       "  </tbody>\n",
       "</table>\n",
       "</div>"
      ],
      "text/plain": [
       "   count\n",
       "0   1000"
      ]
     },
     "execution_count": 28,
     "metadata": {},
     "output_type": "execute_result"
    }
   ],
   "source": [
    "#Таблица books\n",
    "query = '''SELECT COUNT(*) FROM books'''\n",
    "get_sql_data(query)"
   ]
  },
  {
   "cell_type": "code",
   "execution_count": 29,
   "id": "859765a5-9631-4283-8e6e-5da7a53c975c",
   "metadata": {},
   "outputs": [
    {
     "data": {
      "text/html": [
       "<div>\n",
       "<style scoped>\n",
       "    .dataframe tbody tr th:only-of-type {\n",
       "        vertical-align: middle;\n",
       "    }\n",
       "\n",
       "    .dataframe tbody tr th {\n",
       "        vertical-align: top;\n",
       "    }\n",
       "\n",
       "    .dataframe thead th {\n",
       "        text-align: right;\n",
       "    }\n",
       "</style>\n",
       "<table border=\"1\" class=\"dataframe\">\n",
       "  <thead>\n",
       "    <tr style=\"text-align: right;\">\n",
       "      <th></th>\n",
       "      <th>count</th>\n",
       "    </tr>\n",
       "  </thead>\n",
       "  <tbody>\n",
       "    <tr>\n",
       "      <th>0</th>\n",
       "      <td>999</td>\n",
       "    </tr>\n",
       "  </tbody>\n",
       "</table>\n",
       "</div>"
      ],
      "text/plain": [
       "   count\n",
       "0    999"
      ]
     },
     "execution_count": 29,
     "metadata": {},
     "output_type": "execute_result"
    }
   ],
   "source": [
    "query = '''SELECT COUNT(DISTINCT title) FROM books'''\n",
    "get_sql_data(query)"
   ]
  },
  {
   "cell_type": "markdown",
   "id": "a02c476c-af05-4fe8-a7b5-53deffe59812",
   "metadata": {},
   "source": [
    "В таблице books предоставленный данный о книгах изданных с 01 января 1952 года по 31 марта 2020 г., помимо названий книг и дат публикаций, указано количество страниц в каждой книге, а также ключи для авторов и изданий. Таблица содержит 999 уникальных названий книг, иногда книги называют одинаково или издают в разных изданиях, а может дубли, надо посмотреть."
   ]
  },
  {
   "cell_type": "code",
   "execution_count": 30,
   "id": "7b6f4f13-b921-4f30-87a3-5e2f1e5becb9",
   "metadata": {},
   "outputs": [
    {
     "data": {
      "text/html": [
       "<div>\n",
       "<style scoped>\n",
       "    .dataframe tbody tr th:only-of-type {\n",
       "        vertical-align: middle;\n",
       "    }\n",
       "\n",
       "    .dataframe tbody tr th {\n",
       "        vertical-align: top;\n",
       "    }\n",
       "\n",
       "    .dataframe thead th {\n",
       "        text-align: right;\n",
       "    }\n",
       "</style>\n",
       "<table border=\"1\" class=\"dataframe\">\n",
       "  <thead>\n",
       "    <tr style=\"text-align: right;\">\n",
       "      <th></th>\n",
       "      <th>book_id</th>\n",
       "      <th>author_id</th>\n",
       "      <th>title</th>\n",
       "      <th>num_pages</th>\n",
       "      <th>publication_date</th>\n",
       "      <th>publisher_id</th>\n",
       "    </tr>\n",
       "  </thead>\n",
       "  <tbody>\n",
       "    <tr>\n",
       "      <th>0</th>\n",
       "      <td>426</td>\n",
       "      <td>39</td>\n",
       "      <td>Memoirs of a Geisha</td>\n",
       "      <td>434</td>\n",
       "      <td>2005-11-15</td>\n",
       "      <td>241</td>\n",
       "    </tr>\n",
       "    <tr>\n",
       "      <th>1</th>\n",
       "      <td>427</td>\n",
       "      <td>39</td>\n",
       "      <td>Memoirs of a Geisha</td>\n",
       "      <td>503</td>\n",
       "      <td>2005-11-22</td>\n",
       "      <td>311</td>\n",
       "    </tr>\n",
       "  </tbody>\n",
       "</table>\n",
       "</div>"
      ],
      "text/plain": [
       "   book_id  author_id                title  num_pages publication_date  \\\n",
       "0      426         39  Memoirs of a Geisha        434       2005-11-15   \n",
       "1      427         39  Memoirs of a Geisha        503       2005-11-22   \n",
       "\n",
       "   publisher_id  \n",
       "0           241  \n",
       "1           311  "
      ]
     },
     "execution_count": 30,
     "metadata": {},
     "output_type": "execute_result"
    }
   ],
   "source": [
    "query = ''' SELECT *\n",
    "            FROM books\n",
    "            WHERE title IN (\n",
    "            \t\t\t\tSELECT title\n",
    "            \t\t\t\tFROM books\n",
    "            \t\t\t\tGROUP BY title\n",
    "            \t\t\t\tHAVING COUNT(title)>1)'''\n",
    "            \n",
    "get_sql_data(query)"
   ]
  },
  {
   "cell_type": "markdown",
   "id": "73187b01-1fc6-4372-b65b-58c2686a94de",
   "metadata": {},
   "source": [
    "Мемуары Гейши на пики популярности выпустили аж в двух изданиях, дубликтов нет."
   ]
  },
  {
   "cell_type": "code",
   "execution_count": 31,
   "id": "c00739a1-4b0c-409e-8d38-523c24364500",
   "metadata": {},
   "outputs": [
    {
     "data": {
      "text/html": [
       "<div>\n",
       "<style scoped>\n",
       "    .dataframe tbody tr th:only-of-type {\n",
       "        vertical-align: middle;\n",
       "    }\n",
       "\n",
       "    .dataframe tbody tr th {\n",
       "        vertical-align: top;\n",
       "    }\n",
       "\n",
       "    .dataframe thead th {\n",
       "        text-align: right;\n",
       "    }\n",
       "</style>\n",
       "<table border=\"1\" class=\"dataframe\">\n",
       "  <thead>\n",
       "    <tr style=\"text-align: right;\">\n",
       "      <th></th>\n",
       "      <th>rating_id</th>\n",
       "      <th>book_id</th>\n",
       "      <th>username</th>\n",
       "      <th>rating</th>\n",
       "    </tr>\n",
       "  </thead>\n",
       "  <tbody>\n",
       "    <tr>\n",
       "      <th>0</th>\n",
       "      <td>1</td>\n",
       "      <td>1</td>\n",
       "      <td>ryanfranco</td>\n",
       "      <td>4</td>\n",
       "    </tr>\n",
       "    <tr>\n",
       "      <th>1</th>\n",
       "      <td>2</td>\n",
       "      <td>1</td>\n",
       "      <td>grantpatricia</td>\n",
       "      <td>2</td>\n",
       "    </tr>\n",
       "    <tr>\n",
       "      <th>2</th>\n",
       "      <td>3</td>\n",
       "      <td>1</td>\n",
       "      <td>brandtandrea</td>\n",
       "      <td>5</td>\n",
       "    </tr>\n",
       "    <tr>\n",
       "      <th>3</th>\n",
       "      <td>4</td>\n",
       "      <td>2</td>\n",
       "      <td>lorichen</td>\n",
       "      <td>3</td>\n",
       "    </tr>\n",
       "    <tr>\n",
       "      <th>4</th>\n",
       "      <td>5</td>\n",
       "      <td>2</td>\n",
       "      <td>mariokeller</td>\n",
       "      <td>2</td>\n",
       "    </tr>\n",
       "  </tbody>\n",
       "</table>\n",
       "</div>"
      ],
      "text/plain": [
       "   rating_id  book_id       username  rating\n",
       "0          1        1     ryanfranco       4\n",
       "1          2        1  grantpatricia       2\n",
       "2          3        1   brandtandrea       5\n",
       "3          4        2       lorichen       3\n",
       "4          5        2    mariokeller       2"
      ]
     },
     "execution_count": 31,
     "metadata": {},
     "output_type": "execute_result"
    }
   ],
   "source": [
    "#Таблица ratings\n",
    "query = '''SELECT * FROM ratings LIMIT 5'''\n",
    "get_sql_data(query)"
   ]
  },
  {
   "cell_type": "code",
   "execution_count": 32,
   "id": "3abfefba-4bce-4496-b58e-26932feaa49e",
   "metadata": {},
   "outputs": [
    {
     "data": {
      "text/html": [
       "<div>\n",
       "<style scoped>\n",
       "    .dataframe tbody tr th:only-of-type {\n",
       "        vertical-align: middle;\n",
       "    }\n",
       "\n",
       "    .dataframe tbody tr th {\n",
       "        vertical-align: top;\n",
       "    }\n",
       "\n",
       "    .dataframe thead th {\n",
       "        text-align: right;\n",
       "    }\n",
       "</style>\n",
       "<table border=\"1\" class=\"dataframe\">\n",
       "  <thead>\n",
       "    <tr style=\"text-align: right;\">\n",
       "      <th></th>\n",
       "      <th>count</th>\n",
       "    </tr>\n",
       "  </thead>\n",
       "  <tbody>\n",
       "    <tr>\n",
       "      <th>0</th>\n",
       "      <td>6456</td>\n",
       "    </tr>\n",
       "  </tbody>\n",
       "</table>\n",
       "</div>"
      ],
      "text/plain": [
       "   count\n",
       "0   6456"
      ]
     },
     "execution_count": 32,
     "metadata": {},
     "output_type": "execute_result"
    }
   ],
   "source": [
    "query = '''SELECT COUNT(*) FROM ratings'''\n",
    "get_sql_data(query)"
   ]
  },
  {
   "cell_type": "code",
   "execution_count": 33,
   "id": "0b32f3dc-23d0-4167-9a93-7d4a8d8536fa",
   "metadata": {},
   "outputs": [
    {
     "data": {
      "text/html": [
       "<div>\n",
       "<style scoped>\n",
       "    .dataframe tbody tr th:only-of-type {\n",
       "        vertical-align: middle;\n",
       "    }\n",
       "\n",
       "    .dataframe tbody tr th {\n",
       "        vertical-align: top;\n",
       "    }\n",
       "\n",
       "    .dataframe thead th {\n",
       "        text-align: right;\n",
       "    }\n",
       "</style>\n",
       "<table border=\"1\" class=\"dataframe\">\n",
       "  <thead>\n",
       "    <tr style=\"text-align: right;\">\n",
       "      <th></th>\n",
       "      <th>count</th>\n",
       "    </tr>\n",
       "  </thead>\n",
       "  <tbody>\n",
       "    <tr>\n",
       "      <th>0</th>\n",
       "      <td>160</td>\n",
       "    </tr>\n",
       "  </tbody>\n",
       "</table>\n",
       "</div>"
      ],
      "text/plain": [
       "   count\n",
       "0    160"
      ]
     },
     "execution_count": 33,
     "metadata": {},
     "output_type": "execute_result"
    }
   ],
   "source": [
    "query = '''SELECT COUNT(DISTINCT username) FROM ratings'''\n",
    "get_sql_data(query)"
   ]
  },
  {
   "cell_type": "markdown",
   "id": "c0d799a1-ea4e-4bb4-81f5-cf4d40a09716",
   "metadata": {},
   "source": [
    "Таблица ratings содержит 6456 записей пользовательских рейтингов с указанием ников пользователей и ключами для таблицы books.  Рейтинги выставлены 160 пользователями."
   ]
  },
  {
   "cell_type": "code",
   "execution_count": 34,
   "id": "e346576a-93e3-4ddc-9104-0bc3930e9b90",
   "metadata": {},
   "outputs": [
    {
     "data": {
      "text/html": [
       "<div>\n",
       "<style scoped>\n",
       "    .dataframe tbody tr th:only-of-type {\n",
       "        vertical-align: middle;\n",
       "    }\n",
       "\n",
       "    .dataframe tbody tr th {\n",
       "        vertical-align: top;\n",
       "    }\n",
       "\n",
       "    .dataframe thead th {\n",
       "        text-align: right;\n",
       "    }\n",
       "</style>\n",
       "<table border=\"1\" class=\"dataframe\">\n",
       "  <thead>\n",
       "    <tr style=\"text-align: right;\">\n",
       "      <th></th>\n",
       "      <th>review_id</th>\n",
       "      <th>book_id</th>\n",
       "      <th>username</th>\n",
       "      <th>text</th>\n",
       "    </tr>\n",
       "  </thead>\n",
       "  <tbody>\n",
       "    <tr>\n",
       "      <th>0</th>\n",
       "      <td>1</td>\n",
       "      <td>1</td>\n",
       "      <td>brandtandrea</td>\n",
       "      <td>Mention society tell send professor analysis. ...</td>\n",
       "    </tr>\n",
       "    <tr>\n",
       "      <th>1</th>\n",
       "      <td>2</td>\n",
       "      <td>1</td>\n",
       "      <td>ryanfranco</td>\n",
       "      <td>Foot glass pretty audience hit themselves. Amo...</td>\n",
       "    </tr>\n",
       "    <tr>\n",
       "      <th>2</th>\n",
       "      <td>3</td>\n",
       "      <td>2</td>\n",
       "      <td>lorichen</td>\n",
       "      <td>Listen treat keep worry. Miss husband tax but ...</td>\n",
       "    </tr>\n",
       "    <tr>\n",
       "      <th>3</th>\n",
       "      <td>4</td>\n",
       "      <td>3</td>\n",
       "      <td>johnsonamanda</td>\n",
       "      <td>Finally month interesting blue could nature cu...</td>\n",
       "    </tr>\n",
       "    <tr>\n",
       "      <th>4</th>\n",
       "      <td>5</td>\n",
       "      <td>3</td>\n",
       "      <td>scotttamara</td>\n",
       "      <td>Nation purpose heavy give wait song will. List...</td>\n",
       "    </tr>\n",
       "  </tbody>\n",
       "</table>\n",
       "</div>"
      ],
      "text/plain": [
       "   review_id  book_id       username  \\\n",
       "0          1        1   brandtandrea   \n",
       "1          2        1     ryanfranco   \n",
       "2          3        2       lorichen   \n",
       "3          4        3  johnsonamanda   \n",
       "4          5        3    scotttamara   \n",
       "\n",
       "                                                text  \n",
       "0  Mention society tell send professor analysis. ...  \n",
       "1  Foot glass pretty audience hit themselves. Amo...  \n",
       "2  Listen treat keep worry. Miss husband tax but ...  \n",
       "3  Finally month interesting blue could nature cu...  \n",
       "4  Nation purpose heavy give wait song will. List...  "
      ]
     },
     "execution_count": 34,
     "metadata": {},
     "output_type": "execute_result"
    }
   ],
   "source": [
    "#Таблица reviews\n",
    "query = '''SELECT * FROM reviews LIMIT 5'''\n",
    "get_sql_data(query)"
   ]
  },
  {
   "cell_type": "code",
   "execution_count": 35,
   "id": "ca2b7da7-52df-4725-b4c7-e2bff099f917",
   "metadata": {},
   "outputs": [
    {
     "data": {
      "text/html": [
       "<div>\n",
       "<style scoped>\n",
       "    .dataframe tbody tr th:only-of-type {\n",
       "        vertical-align: middle;\n",
       "    }\n",
       "\n",
       "    .dataframe tbody tr th {\n",
       "        vertical-align: top;\n",
       "    }\n",
       "\n",
       "    .dataframe thead th {\n",
       "        text-align: right;\n",
       "    }\n",
       "</style>\n",
       "<table border=\"1\" class=\"dataframe\">\n",
       "  <thead>\n",
       "    <tr style=\"text-align: right;\">\n",
       "      <th></th>\n",
       "      <th>count</th>\n",
       "    </tr>\n",
       "  </thead>\n",
       "  <tbody>\n",
       "    <tr>\n",
       "      <th>0</th>\n",
       "      <td>160</td>\n",
       "    </tr>\n",
       "  </tbody>\n",
       "</table>\n",
       "</div>"
      ],
      "text/plain": [
       "   count\n",
       "0    160"
      ]
     },
     "execution_count": 35,
     "metadata": {},
     "output_type": "execute_result"
    }
   ],
   "source": [
    "query = '''SELECT COUNT(DISTINCT username) FROM reviews'''\n",
    "get_sql_data(query)"
   ]
  },
  {
   "cell_type": "markdown",
   "id": "a06841b9-199e-4dd2-a6b1-c7711b5b9ad8",
   "metadata": {},
   "source": [
    "Таблица reviews содержит пользовательские обзоры с указанием ников пользователей и ключём для таблицы books. И тоже 160 пользователей."
   ]
  },
  {
   "cell_type": "code",
   "execution_count": 36,
   "id": "2af14109-2c8b-4b9b-b67c-aac7a81ee01a",
   "metadata": {},
   "outputs": [
    {
     "data": {
      "text/html": [
       "<div>\n",
       "<style scoped>\n",
       "    .dataframe tbody tr th:only-of-type {\n",
       "        vertical-align: middle;\n",
       "    }\n",
       "\n",
       "    .dataframe tbody tr th {\n",
       "        vertical-align: top;\n",
       "    }\n",
       "\n",
       "    .dataframe thead th {\n",
       "        text-align: right;\n",
       "    }\n",
       "</style>\n",
       "<table border=\"1\" class=\"dataframe\">\n",
       "  <thead>\n",
       "    <tr style=\"text-align: right;\">\n",
       "      <th></th>\n",
       "      <th>author_id</th>\n",
       "      <th>author</th>\n",
       "    </tr>\n",
       "  </thead>\n",
       "  <tbody>\n",
       "    <tr>\n",
       "      <th>0</th>\n",
       "      <td>1</td>\n",
       "      <td>A.S. Byatt</td>\n",
       "    </tr>\n",
       "    <tr>\n",
       "      <th>1</th>\n",
       "      <td>2</td>\n",
       "      <td>Aesop/Laura Harris/Laura Gibbs</td>\n",
       "    </tr>\n",
       "    <tr>\n",
       "      <th>2</th>\n",
       "      <td>3</td>\n",
       "      <td>Agatha Christie</td>\n",
       "    </tr>\n",
       "    <tr>\n",
       "      <th>3</th>\n",
       "      <td>4</td>\n",
       "      <td>Alan Brennert</td>\n",
       "    </tr>\n",
       "    <tr>\n",
       "      <th>4</th>\n",
       "      <td>5</td>\n",
       "      <td>Alan Moore/David   Lloyd</td>\n",
       "    </tr>\n",
       "  </tbody>\n",
       "</table>\n",
       "</div>"
      ],
      "text/plain": [
       "   author_id                          author\n",
       "0          1                      A.S. Byatt\n",
       "1          2  Aesop/Laura Harris/Laura Gibbs\n",
       "2          3                 Agatha Christie\n",
       "3          4                   Alan Brennert\n",
       "4          5        Alan Moore/David   Lloyd"
      ]
     },
     "execution_count": 36,
     "metadata": {},
     "output_type": "execute_result"
    }
   ],
   "source": [
    "#Таблица authors\n",
    "query = '''SELECT * FROM authors LIMIT 5'''\n",
    "get_sql_data(query)"
   ]
  },
  {
   "cell_type": "markdown",
   "id": "bf3e8e77-22d1-4b69-b7d1-a8e6b5e64fb1",
   "metadata": {},
   "source": [
    "Таблица authors содержить имена авторов с их id, в некоторых id содружества авторов"
   ]
  },
  {
   "cell_type": "code",
   "execution_count": 37,
   "id": "76aec98b-fbef-45c8-8faf-66ca24bcf3b7",
   "metadata": {},
   "outputs": [
    {
     "data": {
      "text/html": [
       "<div>\n",
       "<style scoped>\n",
       "    .dataframe tbody tr th:only-of-type {\n",
       "        vertical-align: middle;\n",
       "    }\n",
       "\n",
       "    .dataframe tbody tr th {\n",
       "        vertical-align: top;\n",
       "    }\n",
       "\n",
       "    .dataframe thead th {\n",
       "        text-align: right;\n",
       "    }\n",
       "</style>\n",
       "<table border=\"1\" class=\"dataframe\">\n",
       "  <thead>\n",
       "    <tr style=\"text-align: right;\">\n",
       "      <th></th>\n",
       "      <th>publisher_id</th>\n",
       "      <th>publisher</th>\n",
       "    </tr>\n",
       "  </thead>\n",
       "  <tbody>\n",
       "    <tr>\n",
       "      <th>0</th>\n",
       "      <td>1</td>\n",
       "      <td>Ace</td>\n",
       "    </tr>\n",
       "    <tr>\n",
       "      <th>1</th>\n",
       "      <td>2</td>\n",
       "      <td>Ace Book</td>\n",
       "    </tr>\n",
       "    <tr>\n",
       "      <th>2</th>\n",
       "      <td>3</td>\n",
       "      <td>Ace Books</td>\n",
       "    </tr>\n",
       "    <tr>\n",
       "      <th>3</th>\n",
       "      <td>4</td>\n",
       "      <td>Ace Hardcover</td>\n",
       "    </tr>\n",
       "    <tr>\n",
       "      <th>4</th>\n",
       "      <td>5</td>\n",
       "      <td>Addison Wesley Publishing Company</td>\n",
       "    </tr>\n",
       "  </tbody>\n",
       "</table>\n",
       "</div>"
      ],
      "text/plain": [
       "   publisher_id                          publisher\n",
       "0             1                                Ace\n",
       "1             2                           Ace Book\n",
       "2             3                          Ace Books\n",
       "3             4                      Ace Hardcover\n",
       "4             5  Addison Wesley Publishing Company"
      ]
     },
     "execution_count": 37,
     "metadata": {},
     "output_type": "execute_result"
    }
   ],
   "source": [
    "#Таблица publishers\n",
    "query = '''SELECT * FROM publishers LIMIT 5'''\n",
    "get_sql_data(query)"
   ]
  },
  {
   "cell_type": "markdown",
   "id": "7399b432-2b4f-4f86-a0b9-e31f367c6fdc",
   "metadata": {},
   "source": [
    "Таблица publishers содержится информация об изданиях и их id."
   ]
  },
  {
   "cell_type": "markdown",
   "id": "d8f1029b-8a28-46fe-99d2-eb3b8dd4a96c",
   "metadata": {},
   "source": [
    "## Вопросы бизнесса:"
   ]
  },
  {
   "cell_type": "markdown",
   "id": "6910bdce-6217-4209-b3a8-156a47c49d36",
   "metadata": {},
   "source": [
    "### Cколько книг вышло после 1 января 2000 года;"
   ]
  },
  {
   "cell_type": "code",
   "execution_count": 38,
   "id": "a91e828f-65b0-41c2-b265-ade260c72c79",
   "metadata": {},
   "outputs": [
    {
     "data": {
      "text/html": [
       "<div>\n",
       "<style scoped>\n",
       "    .dataframe tbody tr th:only-of-type {\n",
       "        vertical-align: middle;\n",
       "    }\n",
       "\n",
       "    .dataframe tbody tr th {\n",
       "        vertical-align: top;\n",
       "    }\n",
       "\n",
       "    .dataframe thead th {\n",
       "        text-align: right;\n",
       "    }\n",
       "</style>\n",
       "<table border=\"1\" class=\"dataframe\">\n",
       "  <thead>\n",
       "    <tr style=\"text-align: right;\">\n",
       "      <th></th>\n",
       "      <th>count</th>\n",
       "    </tr>\n",
       "  </thead>\n",
       "  <tbody>\n",
       "    <tr>\n",
       "      <th>0</th>\n",
       "      <td>819</td>\n",
       "    </tr>\n",
       "  </tbody>\n",
       "</table>\n",
       "</div>"
      ],
      "text/plain": [
       "   count\n",
       "0    819"
      ]
     },
     "execution_count": 38,
     "metadata": {},
     "output_type": "execute_result"
    }
   ],
   "source": [
    "query = '''   \n",
    "SELECT COUNT (DISTINCT book_id)\n",
    "FROM  books \n",
    "WHERE publication_date > '2000-01-01'\n",
    "'''\n",
    "get_sql_data(query)"
   ]
  },
  {
   "cell_type": "markdown",
   "id": "a114234e-baf6-4cc5-b232-5df7a4d325e6",
   "metadata": {},
   "source": [
    "После 1 января 2000 года было выпущено 819 книг."
   ]
  },
  {
   "cell_type": "markdown",
   "id": "d38e00bb-1c02-4df4-abb9-d76ce31fdd45",
   "metadata": {},
   "source": [
    "### <a name=\"_\"></a>Количество обзоров для каждой книги и средняя оценка;"
   ]
  },
  {
   "cell_type": "code",
   "execution_count": 39,
   "id": "d87c13b8-b950-4560-b8b2-6ff56068bb54",
   "metadata": {},
   "outputs": [
    {
     "data": {
      "text/html": [
       "<div>\n",
       "<style scoped>\n",
       "    .dataframe tbody tr th:only-of-type {\n",
       "        vertical-align: middle;\n",
       "    }\n",
       "\n",
       "    .dataframe tbody tr th {\n",
       "        vertical-align: top;\n",
       "    }\n",
       "\n",
       "    .dataframe thead th {\n",
       "        text-align: right;\n",
       "    }\n",
       "</style>\n",
       "<table border=\"1\" class=\"dataframe\">\n",
       "  <thead>\n",
       "    <tr style=\"text-align: right;\">\n",
       "      <th></th>\n",
       "      <th>book_id</th>\n",
       "      <th>title</th>\n",
       "      <th>count</th>\n",
       "      <th>avg</th>\n",
       "    </tr>\n",
       "  </thead>\n",
       "  <tbody>\n",
       "    <tr>\n",
       "      <th>0</th>\n",
       "      <td>1</td>\n",
       "      <td>'Salem's Lot</td>\n",
       "      <td>2</td>\n",
       "      <td>3.666667</td>\n",
       "    </tr>\n",
       "    <tr>\n",
       "      <th>1</th>\n",
       "      <td>2</td>\n",
       "      <td>1 000 Places to See Before You Die</td>\n",
       "      <td>1</td>\n",
       "      <td>2.500000</td>\n",
       "    </tr>\n",
       "    <tr>\n",
       "      <th>2</th>\n",
       "      <td>3</td>\n",
       "      <td>13 Little Blue Envelopes (Little Blue Envelope...</td>\n",
       "      <td>3</td>\n",
       "      <td>4.666667</td>\n",
       "    </tr>\n",
       "    <tr>\n",
       "      <th>3</th>\n",
       "      <td>4</td>\n",
       "      <td>1491: New Revelations of the Americas Before C...</td>\n",
       "      <td>2</td>\n",
       "      <td>4.500000</td>\n",
       "    </tr>\n",
       "    <tr>\n",
       "      <th>4</th>\n",
       "      <td>5</td>\n",
       "      <td>1776</td>\n",
       "      <td>4</td>\n",
       "      <td>4.000000</td>\n",
       "    </tr>\n",
       "    <tr>\n",
       "      <th>...</th>\n",
       "      <td>...</td>\n",
       "      <td>...</td>\n",
       "      <td>...</td>\n",
       "      <td>...</td>\n",
       "    </tr>\n",
       "    <tr>\n",
       "      <th>995</th>\n",
       "      <td>996</td>\n",
       "      <td>Wyrd Sisters (Discworld  #6; Witches #2)</td>\n",
       "      <td>3</td>\n",
       "      <td>3.666667</td>\n",
       "    </tr>\n",
       "    <tr>\n",
       "      <th>996</th>\n",
       "      <td>997</td>\n",
       "      <td>Xenocide (Ender's Saga  #3)</td>\n",
       "      <td>3</td>\n",
       "      <td>3.400000</td>\n",
       "    </tr>\n",
       "    <tr>\n",
       "      <th>997</th>\n",
       "      <td>998</td>\n",
       "      <td>Year of Wonders</td>\n",
       "      <td>4</td>\n",
       "      <td>3.200000</td>\n",
       "    </tr>\n",
       "    <tr>\n",
       "      <th>998</th>\n",
       "      <td>999</td>\n",
       "      <td>You Suck (A Love Story  #2)</td>\n",
       "      <td>2</td>\n",
       "      <td>4.500000</td>\n",
       "    </tr>\n",
       "    <tr>\n",
       "      <th>999</th>\n",
       "      <td>1000</td>\n",
       "      <td>Zen and the Art of Motorcycle Maintenance: An ...</td>\n",
       "      <td>4</td>\n",
       "      <td>3.833333</td>\n",
       "    </tr>\n",
       "  </tbody>\n",
       "</table>\n",
       "<p>1000 rows × 4 columns</p>\n",
       "</div>"
      ],
      "text/plain": [
       "     book_id                                              title  count  \\\n",
       "0          1                                       'Salem's Lot      2   \n",
       "1          2                 1 000 Places to See Before You Die      1   \n",
       "2          3  13 Little Blue Envelopes (Little Blue Envelope...      3   \n",
       "3          4  1491: New Revelations of the Americas Before C...      2   \n",
       "4          5                                               1776      4   \n",
       "..       ...                                                ...    ...   \n",
       "995      996           Wyrd Sisters (Discworld  #6; Witches #2)      3   \n",
       "996      997                        Xenocide (Ender's Saga  #3)      3   \n",
       "997      998                                    Year of Wonders      4   \n",
       "998      999                        You Suck (A Love Story  #2)      2   \n",
       "999     1000  Zen and the Art of Motorcycle Maintenance: An ...      4   \n",
       "\n",
       "          avg  \n",
       "0    3.666667  \n",
       "1    2.500000  \n",
       "2    4.666667  \n",
       "3    4.500000  \n",
       "4    4.000000  \n",
       "..        ...  \n",
       "995  3.666667  \n",
       "996  3.400000  \n",
       "997  3.200000  \n",
       "998  4.500000  \n",
       "999  3.833333  \n",
       "\n",
       "[1000 rows x 4 columns]"
      ]
     },
     "execution_count": 39,
     "metadata": {},
     "output_type": "execute_result"
    }
   ],
   "source": [
    "query = '''   \n",
    "select b.BOOK_ID, b.title, count(DISTINCT r2.review_id), avg(r.rating) \n",
    "from books b \n",
    "left join ratings r ON b.book_id = r.book_id \n",
    "left join reviews r2 on b.book_id = r2.book_id \n",
    "group by b.book_id, b.title \n",
    "'''\n",
    "get_sql_data(query)"
   ]
  },
  {
   "cell_type": "markdown",
   "id": "555d7288-2728-4187-a869-0b096c8a1cea",
   "metadata": {},
   "source": [
    "### Издательство, которое выпустило наибольшее число книг толще 50 страниц (исключить брошюры);"
   ]
  },
  {
   "cell_type": "code",
   "execution_count": 40,
   "id": "c83723f6-f06a-4be1-9177-4013cf605d59",
   "metadata": {},
   "outputs": [
    {
     "data": {
      "text/html": [
       "<div>\n",
       "<style scoped>\n",
       "    .dataframe tbody tr th:only-of-type {\n",
       "        vertical-align: middle;\n",
       "    }\n",
       "\n",
       "    .dataframe tbody tr th {\n",
       "        vertical-align: top;\n",
       "    }\n",
       "\n",
       "    .dataframe thead th {\n",
       "        text-align: right;\n",
       "    }\n",
       "</style>\n",
       "<table border=\"1\" class=\"dataframe\">\n",
       "  <thead>\n",
       "    <tr style=\"text-align: right;\">\n",
       "      <th></th>\n",
       "      <th>publisher</th>\n",
       "    </tr>\n",
       "  </thead>\n",
       "  <tbody>\n",
       "    <tr>\n",
       "      <th>0</th>\n",
       "      <td>Penguin Books</td>\n",
       "    </tr>\n",
       "  </tbody>\n",
       "</table>\n",
       "</div>"
      ],
      "text/plain": [
       "       publisher\n",
       "0  Penguin Books"
      ]
     },
     "execution_count": 40,
     "metadata": {},
     "output_type": "execute_result"
    }
   ],
   "source": [
    "query = '''   \n",
    "select publisher \n",
    "from publishers p \n",
    "where publisher_id in (\n",
    "\t\t\tselect publisher_id\n",
    "\t\t\tfrom books b \n",
    "\t\t\twhere num_pages > 50\n",
    "\t\t\tgroup by publisher_id\n",
    "\t\t\torder by count(book_id) desc \n",
    "\t\t\tlimit 1)\n",
    "'''\n",
    "get_sql_data(query)"
   ]
  },
  {
   "cell_type": "markdown",
   "id": "b5b0222e-26ae-450c-be4c-005c24575d81",
   "metadata": {},
   "source": [
    "Британское издательство Пингвин Букс выпусктило больше всего книг - 42 книги."
   ]
  },
  {
   "cell_type": "markdown",
   "id": "a00b2aca-7b8f-4731-b8f4-b6d4618d1d29",
   "metadata": {},
   "source": [
    "### Автор с самой высокой средней оценкой книг (учитывать только книги с 50 и более оценками);"
   ]
  },
  {
   "cell_type": "code",
   "execution_count": 41,
   "id": "8f0fb7ce-85fa-4036-8b0b-15111d3da3ae",
   "metadata": {},
   "outputs": [
    {
     "data": {
      "text/html": [
       "<div>\n",
       "<style scoped>\n",
       "    .dataframe tbody tr th:only-of-type {\n",
       "        vertical-align: middle;\n",
       "    }\n",
       "\n",
       "    .dataframe tbody tr th {\n",
       "        vertical-align: top;\n",
       "    }\n",
       "\n",
       "    .dataframe thead th {\n",
       "        text-align: right;\n",
       "    }\n",
       "</style>\n",
       "<table border=\"1\" class=\"dataframe\">\n",
       "  <thead>\n",
       "    <tr style=\"text-align: right;\">\n",
       "      <th></th>\n",
       "      <th>author</th>\n",
       "      <th>avg_rating</th>\n",
       "    </tr>\n",
       "  </thead>\n",
       "  <tbody>\n",
       "    <tr>\n",
       "      <th>0</th>\n",
       "      <td>J.K. Rowling/Mary GrandPré</td>\n",
       "      <td>4.41</td>\n",
       "    </tr>\n",
       "  </tbody>\n",
       "</table>\n",
       "</div>"
      ],
      "text/plain": [
       "                       author  avg_rating\n",
       "0  J.K. Rowling/Mary GrandPré        4.41"
      ]
     },
     "execution_count": 41,
     "metadata": {},
     "output_type": "execute_result"
    }
   ],
   "source": [
    "query = '''   \n",
    "select author, round(avg(r.rating),2) as avg_rating\n",
    "from  books b\n",
    "join ratings r on b.book_id = r.book_id \n",
    "join authors a on a.author_id =b.author_id \n",
    "group by b.book_id, a.author  \n",
    "having count(rating)>50\n",
    "order by avg_rating desc \n",
    "limit 1\n",
    "'''\n",
    "get_sql_data(query)"
   ]
  },
  {
   "cell_type": "markdown",
   "id": "a2cda22f-18f5-4a73-8feb-8045dce6d6ae",
   "metadata": {},
   "source": [
    "Самый высокооцененный пользователями автор -  Джоан Роулинг"
   ]
  },
  {
   "cell_type": "markdown",
   "id": "8ba4cd1b-7fd0-499d-971c-e0afced65c40",
   "metadata": {},
   "source": [
    "### Среднее количество обзоров от пользователей, которые поставили больше 48 оценок."
   ]
  },
  {
   "cell_type": "code",
   "execution_count": 42,
   "id": "4e2e7b1a-b799-49a6-99cb-a4dcb2aab537",
   "metadata": {},
   "outputs": [
    {
     "data": {
      "text/html": [
       "<div>\n",
       "<style scoped>\n",
       "    .dataframe tbody tr th:only-of-type {\n",
       "        vertical-align: middle;\n",
       "    }\n",
       "\n",
       "    .dataframe tbody tr th {\n",
       "        vertical-align: top;\n",
       "    }\n",
       "\n",
       "    .dataframe thead th {\n",
       "        text-align: right;\n",
       "    }\n",
       "</style>\n",
       "<table border=\"1\" class=\"dataframe\">\n",
       "  <thead>\n",
       "    <tr style=\"text-align: right;\">\n",
       "      <th></th>\n",
       "      <th>avg</th>\n",
       "    </tr>\n",
       "  </thead>\n",
       "  <tbody>\n",
       "    <tr>\n",
       "      <th>0</th>\n",
       "      <td>24.0</td>\n",
       "    </tr>\n",
       "  </tbody>\n",
       "</table>\n",
       "</div>"
      ],
      "text/plain": [
       "    avg\n",
       "0  24.0"
      ]
     },
     "execution_count": 42,
     "metadata": {},
     "output_type": "execute_result"
    }
   ],
   "source": [
    "query = '''   \n",
    "with cnt as(\n",
    "\t\tselect count(review_id), username \n",
    "\t\tfrom reviews r \n",
    "\t\twhere username in (\t\t\n",
    "\t\t\t\tselect username\n",
    "\t\t\t\tfrom ratings r \n",
    "\t\t\t\tgroup by username \n",
    "\t\t\t\thaving count(rating) > 48)\n",
    "\t\tgroup by username)\n",
    "select AVG(count)\n",
    "from cnt\n",
    "'''\n",
    "get_sql_data(query)"
   ]
  },
  {
   "cell_type": "markdown",
   "id": "07ce3747-d361-4969-b9f7-0a9d2cbf311a",
   "metadata": {},
   "source": [
    "Самые активные пользователи написали в среднем 24 обзора."
   ]
  },
  {
   "attachments": {},
   "cell_type": "markdown",
   "id": "ebe6839e-c22a-4a00-afa2-b937dceffb6f",
   "metadata": {},
   "source": [
    "Выводы:\n",
    " - в данных около 1000 книг;\n",
    " - данные предоставлены о книгах выпущенных с 1 декабря 1952 года по 31 марта 2020 года;\n",
    " - рейтинги и ревью написано 160 пользрователями;\n",
    " - 819 книг выпущены после начала 2000 года;\n",
    " - издательство Пингвин Букс выпустило больше всего книг;\n",
    " - cамый высокооцененный пользователями автор -  Джоан Роулинг;\n",
    " - cамые активные пользователи написали в среднем 24 обзора;\n",
    " - количество обзоров для каждой книги и средние оценки [представлены в таблице](#_)\n",
    " \n"
   ]
  },
  {
   "cell_type": "code",
   "execution_count": null,
   "id": "d14c78c5-4c9f-43d8-b5cf-3d44564f3494",
   "metadata": {},
   "outputs": [],
   "source": []
  }
 ],
 "metadata": {
  "kernelspec": {
   "display_name": "Python 3 (ipykernel)",
   "language": "python",
   "name": "python3"
  },
  "language_info": {
   "codemirror_mode": {
    "name": "ipython",
    "version": 3
   },
   "file_extension": ".py",
   "mimetype": "text/x-python",
   "name": "python",
   "nbconvert_exporter": "python",
   "pygments_lexer": "ipython3",
   "version": "3.9.18"
  }
 },
 "nbformat": 4,
 "nbformat_minor": 5
}
